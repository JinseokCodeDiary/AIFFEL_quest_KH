{
  "nbformat": 4,
  "nbformat_minor": 0,
  "metadata": {
    "colab": {
      "provenance": [],
      "authorship_tag": "ABX9TyOfOPjIsYfbo0BKz63jCqpN",
      "include_colab_link": true
    },
    "kernelspec": {
      "name": "python3",
      "display_name": "Python 3"
    },
    "language_info": {
      "name": "python"
    }
  },
  "cells": [
    {
      "cell_type": "markdown",
      "metadata": {
        "id": "view-in-github",
        "colab_type": "text"
      },
      "source": [
        "<a href=\"https://colab.research.google.com/github/KIHONG-KIM/AIFFEL_quest/blob/main/Python_quest/MainQuest/project1.ipynb\" target=\"_parent\"><img src=\"https://colab.research.google.com/assets/colab-badge.svg\" alt=\"Open In Colab\"/></a>"
      ]
    },
    {
      "cell_type": "code",
      "execution_count": 16,
      "metadata": {
        "colab": {
          "base_uri": "https://localhost:8080/"
        },
        "id": "dWoQb9wDyzsr",
        "outputId": "ae2a8184-8e8d-4ee1-b121-33e1d3dbf80a"
      },
      "outputs": [
        {
          "output_type": "stream",
          "name": "stdout",
          "text": [
            "넓이를 구하고 싶은 사각형의 숫자를 써주세요.\n",
            " 1.직사각형 2.평행사변형 3.사다리꼴 (종료하려면 \"0\"을 입력하세요.) \n",
            " >>>1\n",
            "직사각형 함수는 rect()입니다.\n",
            "가로, 세로를 입력하세요. 예시 : 가로,세로\n",
            " >>>2,4\n",
            "직사각형의 넓이는 : 8\n",
            "\n",
            "다시 진행하시겠습니까?\n",
            "넓이를 구하고 싶은 사각형의 숫자를 써주세요.\n",
            " 1.직사각형 2.평행사변형 3.사다리꼴 (종료하려면 \"0\"을 입력하세요.) \n",
            " >>>1\n",
            "직사각형 함수는 rect()입니다.\n",
            "가로, 세로를 입력하세요. 예시 : 가로,세로\n",
            " >>>3,4\n",
            "직사각형의 넓이는 : 12\n",
            "\n",
            "다시 진행하시겠습니까?\n",
            "넓이를 구하고 싶은 사각형의 숫자를 써주세요.\n",
            " 1.직사각형 2.평행사변형 3.사다리꼴 (종료하려면 \"0\"을 입력하세요.) \n",
            " >>>3\n",
            "사다리꼴 함수는 trape()입니다.\n",
            "윗변,밑변,높이를 입력하세요. 예시: 윗변,밑변,높이 \n",
            " >>>1,2,5\n",
            "7.5\n",
            "사다리꼴의 넓이는 :7.5\n",
            "\n",
            "다시 진행하시겠습니까?\n",
            "넓이를 구하고 싶은 사각형의 숫자를 써주세요.\n",
            " 1.직사각형 2.평행사변형 3.사다리꼴 (종료하려면 \"0\"을 입력하세요.) \n",
            " >>>0\n",
            "프로그램을 종료합니다.\n"
          ]
        }
      ],
      "source": [
        "# 사각형 넓이를 구하는 클래스 완성!\n",
        "class Square:\n",
        "    def __init__(self):\n",
        "        self.square = int(input('넓이를 구하고 싶은 사각형의 숫자를 써주세요.\\n 1.직사각형 2.평행사변형 3.사다리꼴 (종료하려면 \"0\"을 입력하세요.) \\n >>>'))\n",
        "\n",
        "        if self.square == 1:\n",
        "            print('직사각형 함수는 rect()입니다.')\n",
        "            try :\n",
        "                print(self.rect())\n",
        "            except ValueError as e:\n",
        "                print(f\"ValueError 입니다. 2개의 언어를 띄어쓰기로 입력해주세요. 에러내용: {e}\")\n",
        "            finally:\n",
        "                print(\"다시 진행하시겠습니까?\")\n",
        "                self.__init__()\n",
        "\n",
        "        elif self.square == 2:\n",
        "            print('평행사변형 함수는 par()입니다.')\n",
        "            try :\n",
        "                print(self.par())\n",
        "            except ValueError as e:\n",
        "                print(f\"ValueError 입니다. 2개의 언어를 띄어쓰기로 입력해주세요. 에러내용: {e}\")\n",
        "            finally:\n",
        "                print(\"다시 진행하시겠습니까?\")\n",
        "                self.__init__()\n",
        "\n",
        "        elif self.square == 3:\n",
        "            print('사다리꼴 함수는 trape()입니다.')\n",
        "            try :\n",
        "                print(self.trape())\n",
        "            except ValueError as e:\n",
        "                print(f\"ValueError 입니다. 2개의 언어를 띄어쓰기로 입력해주세요. 에러내용: {e}\")\n",
        "            finally:\n",
        "                print(\"다시 진행하시겠습니까?\")\n",
        "                self.__init__()\n",
        "\n",
        "        elif self.square == 0:\n",
        "            print(\"프로그램을 종료합니다.\")\n",
        "\n",
        "        else:\n",
        "            print('1, 2, 3 중에서 다시 입력해주세요')\n",
        "\n",
        "    def rect(self):\n",
        "        width, vertical = map(int, input('가로, 세로를 입력하세요. 예시 : 가로,세로\\n >>>').split(','))\n",
        "        area = width * vertical\n",
        "        result = '직사각형의 넓이는 : ' + str(area) + \"\\n\"\n",
        "        return result\n",
        "\n",
        "    def par(self):\n",
        "        base, height = map(int, input('밑변, 높이를 입력하세요. 예시 : 밑변,높이 \\n >>>').split(','))\n",
        "        area = base * height\n",
        "        result = '평행사변형의 넓이는 :' + str(area) + \"\\n\"\n",
        "        return result\n",
        "\n",
        "    def trape(self):\n",
        "        upper,lower,height = map(int, input(\"윗변,밑변,높이를 입력하세요. 예시: 윗변,밑변,높이 \\n >>>\").split(','))\n",
        "        area = ((upper + lower)*height/2)\n",
        "        print(area)\n",
        "        result = '사다리꼴의 넓이는 :' + str(area) + \"\\n\"\n",
        "        return result\n",
        "\n",
        "a = Square()  # 객체 생성 & 2, 3을 각각 입력해 봅시다."
      ]
    }
  ]
}