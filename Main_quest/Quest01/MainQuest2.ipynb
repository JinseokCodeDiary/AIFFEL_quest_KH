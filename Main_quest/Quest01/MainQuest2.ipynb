{
  "nbformat": 4,
  "nbformat_minor": 0,
  "metadata": {
    "colab": {
      "provenance": [],
      "authorship_tag": "ABX9TyPElDLMyocB2mj9Qvuy/IiO",
      "include_colab_link": true
    },
    "kernelspec": {
      "name": "python3",
      "display_name": "Python 3"
    },
    "language_info": {
      "name": "python"
    }
  },
  "cells": [
    {
      "cell_type": "markdown",
      "metadata": {
        "id": "view-in-github",
        "colab_type": "text"
      },
      "source": [
        "<a href=\"https://colab.research.google.com/github/KIHONG-KIM/AIFFEL_quest/blob/main/Main_quest/Quest01/MainQuest2.ipynb\" target=\"_parent\"><img src=\"https://colab.research.google.com/assets/colab-badge.svg\" alt=\"Open In Colab\"/></a>"
      ]
    },
    {
      "cell_type": "code",
      "execution_count": 502,
      "metadata": {
        "id": "LA1QpXSNVHNA"
      },
      "outputs": [],
      "source": [
        "# [메인 퀘스트 2번: 아이펠 통합 관리 프로그램 - 2점]\n",
        "\n",
        "# 아이펠 캠퍼스에서는 그루들에게 학번을 부여하고 퀘스트 점수를 관리하고 있습니다. 이제부터 그루들의 정보와\n",
        "# 학번과 점수를 관리할 수 있는 Aiffel 클래스를 만들어보도록 하겠습니다.\n",
        "\n",
        "# Q1. Aiffel 클래스 만들기\n",
        "# 생성자에는 이름, 입학연도, 기수, 과정명의 인자를 받습니다. 이를 통해 학번을 생성하고 학번 정보로 8기 코어\n",
        "# 그루 명단을 관리해봅시다.\n",
        "# 학번은 7자리로 이루어져 있습니다. : YYNNCXX\n",
        "\n",
        "# ● 학번 생성 규칙:\n",
        "# ○ YY: 연도 마지막 두자리 (2024 -> 24)\n",
        "# ○ NN: 기수 (온라인 8기는 31기)\n",
        "# ○ C: 과정 종류 (리서치 = 1, 코어 = 2)\n",
        "# ○ XX: 가나다순 번호\n",
        "\n",
        "from random import shuffle\n",
        "\n",
        "코어8기 = [\n",
        "\"임상운\",\n",
        "\"정권영\",\n",
        "\"강대식\",\n",
        "\"김기홍\",\n",
        "\"김동규\",\n",
        "\"김소영\",\n",
        "\"김원영\",\n",
        "\"김재이\",\n",
        "\"김주현\",\n",
        "\"김진서\",\n",
        "\"박진석\",\n",
        "\"서은재\",\n",
        "\"소다흰\",\n",
        "\"신승우\",\n",
        "\"유제민\",\n",
        "\"윤선웅\",\n",
        "\"이유진\",\n",
        "\"이준오\",\n",
        "\"이한나\",\n",
        "]\n",
        "\n",
        "코어8기.sort()\n",
        "\n",
        "# 전체 학생 이름 리스트로 한꺼번에 할당하기\n",
        "class Modu:\n",
        "    def __init__(self, list):\n",
        "        self.모든학생관리 = []\n",
        "\n",
        "        # 모든 학생을 한번에 입력\n",
        "        for i in range(len(list)):\n",
        "            globals()[\"{}\".format(list[i])] = Aiffel(list[i],\"2024\",\"8\",\"코어\")\n",
        "            self.모든학생관리.append(globals()[\"{}\".format(list[i])])\n",
        "\n",
        "    # 전체 학생을 열람합니다.\n",
        "    def 학생열람(self):\n",
        "        전체학생보기 = \"\\n\".join([ 한명.print_info() for 한명 in self.모든학생관리 ])\n",
        "        print(\"전체 학생수 :\",len(self.모든학생관리))\n",
        "        print(전체학생보기)\n",
        "\n",
        "    # [ Quest ] 전체 점수 내림차순 정렬하여 열람\n",
        "    def 퀘스트점수열람(self):\n",
        "        퀘스트점수 = []\n",
        "        for i in self.모든학생관리:\n",
        "            퀘스트점수.append([i.이름, i.점수])\n",
        "            퀘스트점수.sort(key=lambda x:-x[1])\n",
        "        for 이름, 점수 in 퀘스트점수:\n",
        "            print(이름, 점수)\n",
        "\n",
        "    # [ 이름으로 찾기 ]\n",
        "    def 이름찾기(self, name):\n",
        "        for student in self.모든학생관리:\n",
        "            if student.이름 == name:\n",
        "                return student\n",
        "        return None  # 학생을 찾지 못한 경우 None 반환\n",
        "\n",
        "    # [ Quest ] 섞어주기\n",
        "    def 그룹화(self, 몇명):\n",
        "        list = self.모든학생관리\n",
        "        result = []     # 전체 객체에서 이름 배열로 변환 위한 list\n",
        "        newList = []    # 랜덤 섞어서 몇명으로 다시 변환하기 위한 list\n",
        "        for i in range(0, len(list)):\n",
        "            result.append(list[i].getName())\n",
        "\n",
        "        # 섞어주기\n",
        "        shuffle(result)\n",
        "        for i in range(0, len(result), 몇명):\n",
        "            newList.append(result[i:i + 몇명])\n",
        "\n",
        "        if len(result) % 몇명 == 1:\n",
        "            newList[0].extend(newList[-1])\n",
        "            newList.pop()\n",
        "        # 출력\n",
        "        for i in newList:\n",
        "            print(i)\n",
        "        return\n",
        "\n",
        "    # 삭제하기\n",
        "    def deleteOne(self, name):\n",
        "        target_student = self.이름찾기(name)\n",
        "        if target_student:\n",
        "            print(f\"{target_student.getName()} 학생을 삭제합니다.\")\n",
        "            target_student.minusCount()\n",
        "            self.모든학생관리.remove(target_student)\n",
        "\n",
        "        return None  # 학생을 찾지 못한 경우 None 반환\n",
        "\n",
        "class Aiffel:\n",
        "    count = 0       # 0부터 시작하지 않고, 1부터 시작\n",
        "\n",
        "    def __init__(self, 이름, 입학연도, 기수, 과정명):\n",
        "        self.이름 = 이름                # 김기홍\n",
        "        self.입학연도 = 입학연도        # 2024 - 24\n",
        "        self.기수 = 기수                # 8기 - 31\n",
        "        self.과정명 = 과정명            # 코어 - 2\n",
        "        self.학번 = self.createClassNum()    # 순번으로 자동 생성\n",
        "        self.점수 = 80\n",
        "        Aiffel.count += 1\n",
        "\n",
        "    # 학번 생성 메서드\n",
        "    def createClassNum(self):\n",
        "        YY = self.입학연도[-2:]\n",
        "        NN = \"\"\n",
        "        C = \"\"\n",
        "        if self.기수 == \"8\":\n",
        "            NN = \"31\"\n",
        "        if self.과정명 == \"리서치\":\n",
        "            C = \"1\"\n",
        "        if self.과정명 == \"코어\":\n",
        "            C = \"2\"\n",
        "        XX = f\"{Aiffel.count:02d}\"\n",
        "\n",
        "        return f\"{YY}{NN}{C}{XX}\"\n",
        "\n",
        "    @classmethod\n",
        "    def print_count(cls):\n",
        "        print('현재 학생은 {0}명 입니다.'.format(cls.count))    # cls로 클래스 속성에 접근\n",
        "\n",
        "    def minusCount(self):\n",
        "        self.count = self.count - 1\n",
        "        return self.count\n",
        "\n",
        "    def print_info(self):\n",
        "        return f\"이름: {self. 이름}, 입학연도: {self.입학연도}, 기수: {self.기수}, 과정명: {self.과정명}, 학번: {self.학번}\"\n",
        "\n",
        "    def getName(self):\n",
        "        return self.이름\n",
        "\n",
        "    def setName(self):\n",
        "        return self.이름\n",
        "\n",
        "    def getScore(self):\n",
        "        return self.점수\n",
        "\n",
        "    def addScore(self, value):\n",
        "        self.점수 += value\n",
        "\n",
        "    def minusScore(self, value):\n",
        "        self.점수 -= value\n",
        "\n",
        "all = Modu(코어8기)"
      ]
    },
    {
      "cell_type": "code",
      "source": [
        "# Q2. 점수 관리 메서드\n",
        "# 다음과 같은 기능이 추가되어야 합니다.\n",
        "# ● 퀘스트 점수 부여\n",
        "a = all.이름찾기(\"소다흰\")  # 이름으로 학생 검색\n",
        "a.addScore(10)\n",
        "\n",
        "a = all.이름찾기(\"김기홍\")  # 이름으로 학생 검색\n",
        "a.addScore(4)\n",
        "\n",
        "b = all.이름찾기(\"김주현\")  # 이름으로 학생 검색\n",
        "b.addScore(6)\n",
        "\n",
        "c = all.이름찾기(\"김동규\")  # 이름으로 학생 검색\n",
        "c.addScore(5)\n",
        "\n",
        "# ● 퀘스트 점수 차감 (페널티 부여)\n",
        "d = all.이름찾기(\"김기홍\")  # 이름으로 학생 검색\n",
        "d.minusScore(1)\n",
        "\n",
        "# ● 현재 총점 출력\n",
        "print(f\"{a.이름} 학생 점수: {a.getScore()}\")"
      ],
      "metadata": {
        "colab": {
          "base_uri": "https://localhost:8080/"
        },
        "id": "ibY3so2jHkuj",
        "outputId": "1d15857d-037c-4fd0-d2bf-2fb72f83e6fd"
      },
      "execution_count": 497,
      "outputs": [
        {
          "output_type": "stream",
          "name": "stdout",
          "text": [
            "김기홍 학생 점수: 83\n"
          ]
        }
      ]
    },
    {
      "cell_type": "code",
      "source": [
        "# Q3. 그루 명단 관리하기\n",
        "# 다음과 같은 기능을 가진 프로그램을 만들어 봅시다.\n",
        "# ● 전체 명단과 정보를 보는 기능\n",
        "all.학생열람()"
      ],
      "metadata": {
        "colab": {
          "base_uri": "https://localhost:8080/"
        },
        "id": "6xZwyqsSvNSr",
        "outputId": "767ea784-29fc-4797-f766-c6446074da7d"
      },
      "execution_count": 484,
      "outputs": [
        {
          "output_type": "stream",
          "name": "stdout",
          "text": [
            "전체 학생수 : 19\n",
            "이름: 강대식, 입학연도: 2024, 기수: 8, 과정명: 코어, 학번: 2431200\n",
            "이름: 김기홍, 입학연도: 2024, 기수: 8, 과정명: 코어, 학번: 2431201\n",
            "이름: 김동규, 입학연도: 2024, 기수: 8, 과정명: 코어, 학번: 2431202\n",
            "이름: 김소영, 입학연도: 2024, 기수: 8, 과정명: 코어, 학번: 2431203\n",
            "이름: 김원영, 입학연도: 2024, 기수: 8, 과정명: 코어, 학번: 2431204\n",
            "이름: 김재이, 입학연도: 2024, 기수: 8, 과정명: 코어, 학번: 2431205\n",
            "이름: 김주현, 입학연도: 2024, 기수: 8, 과정명: 코어, 학번: 2431206\n",
            "이름: 김진서, 입학연도: 2024, 기수: 8, 과정명: 코어, 학번: 2431207\n",
            "이름: 박진석, 입학연도: 2024, 기수: 8, 과정명: 코어, 학번: 2431208\n",
            "이름: 서은재, 입학연도: 2024, 기수: 8, 과정명: 코어, 학번: 2431209\n",
            "이름: 소다흰, 입학연도: 2024, 기수: 8, 과정명: 코어, 학번: 2431210\n",
            "이름: 신승우, 입학연도: 2024, 기수: 8, 과정명: 코어, 학번: 2431211\n",
            "이름: 유제민, 입학연도: 2024, 기수: 8, 과정명: 코어, 학번: 2431212\n",
            "이름: 윤선웅, 입학연도: 2024, 기수: 8, 과정명: 코어, 학번: 2431213\n",
            "이름: 이유진, 입학연도: 2024, 기수: 8, 과정명: 코어, 학번: 2431214\n",
            "이름: 이준오, 입학연도: 2024, 기수: 8, 과정명: 코어, 학번: 2431215\n",
            "이름: 이한나, 입학연도: 2024, 기수: 8, 과정명: 코어, 학번: 2431216\n",
            "이름: 임상운, 입학연도: 2024, 기수: 8, 과정명: 코어, 학번: 2431217\n",
            "이름: 정권영, 입학연도: 2024, 기수: 8, 과정명: 코어, 학번: 2431218\n"
          ]
        }
      ]
    },
    {
      "cell_type": "code",
      "source": [
        "# ● 퀘스트 점수를 기준으로 내림차순으로 정렬해서 보는 기능\n",
        "all.퀘스트점수열람()"
      ],
      "metadata": {
        "colab": {
          "base_uri": "https://localhost:8080/"
        },
        "id": "cpz1gkeaCRo_",
        "outputId": "27e5c785-0f41-4965-cfd2-debdc535c53d"
      },
      "execution_count": 485,
      "outputs": [
        {
          "output_type": "stream",
          "name": "stdout",
          "text": [
            "소다흰 90\n",
            "김주현 86\n",
            "김동규 85\n",
            "김기홍 83\n",
            "강대식 80\n",
            "김소영 80\n",
            "김원영 80\n",
            "김재이 80\n",
            "김진서 80\n",
            "박진석 80\n",
            "서은재 80\n",
            "신승우 80\n",
            "유제민 80\n",
            "윤선웅 80\n",
            "이유진 80\n",
            "이준오 80\n",
            "이한나 80\n",
            "임상운 80\n",
            "정권영 80\n"
          ]
        }
      ]
    },
    {
      "cell_type": "code",
      "source": [
        "# ● 특정 인물 정보를 삭제하는 기능\n",
        "all.deleteOne(\"김기홍\")\n",
        "all.deleteOne(\"강대식\")\n",
        "all.deleteOne(\"김소영\")\n",
        "all.deleteOne(\"김동규\")\n",
        "\n",
        "all.학생열람()"
      ],
      "metadata": {
        "colab": {
          "base_uri": "https://localhost:8080/"
        },
        "id": "eHqpAmKKPxU7",
        "outputId": "2d708a2a-00f2-423a-d08c-8a5156a5177b"
      },
      "execution_count": 500,
      "outputs": [
        {
          "output_type": "stream",
          "name": "stdout",
          "text": [
            "김기홍 학생을 삭제합니다.\n",
            "강대식 학생을 삭제합니다.\n",
            "김소영 학생을 삭제합니다.\n",
            "김동규 학생을 삭제합니다.\n",
            "전체 학생수 : 15\n",
            "이름: 김원영, 입학연도: 2024, 기수: 8, 과정명: 코어, 학번: 2431204\n",
            "이름: 김재이, 입학연도: 2024, 기수: 8, 과정명: 코어, 학번: 2431205\n",
            "이름: 김주현, 입학연도: 2024, 기수: 8, 과정명: 코어, 학번: 2431206\n",
            "이름: 김진서, 입학연도: 2024, 기수: 8, 과정명: 코어, 학번: 2431207\n",
            "이름: 박진석, 입학연도: 2024, 기수: 8, 과정명: 코어, 학번: 2431208\n",
            "이름: 서은재, 입학연도: 2024, 기수: 8, 과정명: 코어, 학번: 2431209\n",
            "이름: 소다흰, 입학연도: 2024, 기수: 8, 과정명: 코어, 학번: 2431210\n",
            "이름: 신승우, 입학연도: 2024, 기수: 8, 과정명: 코어, 학번: 2431211\n",
            "이름: 유제민, 입학연도: 2024, 기수: 8, 과정명: 코어, 학번: 2431212\n",
            "이름: 윤선웅, 입학연도: 2024, 기수: 8, 과정명: 코어, 학번: 2431213\n",
            "이름: 이유진, 입학연도: 2024, 기수: 8, 과정명: 코어, 학번: 2431214\n",
            "이름: 이준오, 입학연도: 2024, 기수: 8, 과정명: 코어, 학번: 2431215\n",
            "이름: 이한나, 입학연도: 2024, 기수: 8, 과정명: 코어, 학번: 2431216\n",
            "이름: 임상운, 입학연도: 2024, 기수: 8, 과정명: 코어, 학번: 2431217\n",
            "이름: 정권영, 입학연도: 2024, 기수: 8, 과정명: 코어, 학번: 2431218\n"
          ]
        }
      ]
    },
    {
      "cell_type": "code",
      "source": [
        "# Q4. 그룹핑 기능 추가하기\n",
        "# 그루 명단을 기준으로 2인, 3인, 4인 조를 랜덤하게 구성하는 기능을 추가해봅시다.\n",
        "\n",
        "list = all.그룹화(2)\n",
        "print()\n",
        "\n",
        "list = all.그룹화(3)\n",
        "print()\n",
        "\n",
        "list = all.그룹화(4)"
      ],
      "metadata": {
        "id": "WfxD_sap-G7y",
        "colab": {
          "base_uri": "https://localhost:8080/"
        },
        "outputId": "967b0d51-b50a-4a36-a584-350e7618192d"
      },
      "execution_count": 501,
      "outputs": [
        {
          "output_type": "stream",
          "name": "stdout",
          "text": [
            "['이유진', '김재이', '윤선웅']\n",
            "['서은재', '유제민']\n",
            "['소다흰', '김진서']\n",
            "['김주현', '신승우']\n",
            "['박진석', '김원영']\n",
            "['정권영', '임상운']\n",
            "['이준오', '이한나']\n",
            "\n",
            "['임상운', '윤선웅', '이준오']\n",
            "['이유진', '김재이', '신승우']\n",
            "['서은재', '유제민', '김원영']\n",
            "['이한나', '박진석', '소다흰']\n",
            "['김진서', '정권영', '김주현']\n",
            "\n",
            "['이준오', '김재이', '임상운', '신승우']\n",
            "['정권영', '김진서', '김원영', '서은재']\n",
            "['이한나', '이유진', '김주현', '윤선웅']\n",
            "['유제민', '박진석', '소다흰']\n"
          ]
        }
      ]
    }
  ]
}