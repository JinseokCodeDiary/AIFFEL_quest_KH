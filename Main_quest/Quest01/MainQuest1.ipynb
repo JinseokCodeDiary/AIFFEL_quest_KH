{
  "nbformat": 4,
  "nbformat_minor": 0,
  "metadata": {
    "colab": {
      "provenance": [],
      "authorship_tag": "ABX9TyMMd/fhoAXdjFpV5ITcc75q",
      "include_colab_link": true
    },
    "kernelspec": {
      "name": "python3",
      "display_name": "Python 3"
    },
    "language_info": {
      "name": "python"
    }
  },
  "cells": [
    {
      "cell_type": "markdown",
      "metadata": {
        "id": "view-in-github",
        "colab_type": "text"
      },
      "source": [
        "<a href=\"https://colab.research.google.com/github/KIHONG-KIM/AIFFEL_quest/blob/main/Main_quest/Quest01/MainQuest1.ipynb\" target=\"_parent\"><img src=\"https://colab.research.google.com/assets/colab-badge.svg\" alt=\"Open In Colab\"/></a>"
      ]
    },
    {
      "cell_type": "code",
      "execution_count": 378,
      "metadata": {
        "id": "fcQuM8kEyr4I"
      },
      "outputs": [],
      "source": [
        "# [메인 퀘스트 1번: 은행계좌 만들기 - 3점]\n",
        "\n",
        "# 에러 클래스 만들기\n",
        "class withdrawError(Exception):\n",
        "    def __init__(self, Exception):\n",
        "        pass\n",
        "\n",
        "# random 모듈 import\n",
        "from random import randrange as r\n",
        "\n",
        "# [ Quest ] Q1. Account 클래스 : 은행에 가서 계좌를 개설하면 은행이름, 예금주, 계좌번호, 잔액이 설정됩니다. Account 클래스를 생성한 후\n",
        "# 생성자(hint: 매직매서드..!!)를 구현해보세요. 생성자에서는 예금주와 초기 잔액만 입력 받습니다. 은행이름은 SC은행으로 계좌번호는\n",
        "# 3자리-2자리-6자리 형태로 랜덤하게 생성됩니다. (은행이름: SC은행, 계좌번호: 111-11-111111)\n",
        "class Account:\n",
        "\n",
        "    # Q1 계좌번호 생성기\n",
        "    def createNum(x):\n",
        "        num = \"\"\n",
        "        for i in range (x):\n",
        "            num += str(r(0,10))\n",
        "        return num\n",
        "\n",
        "    # [ Quest ] Q2 클래스 변수: 클래스 변수를 사용해서 Account 클래스로부터 생성된 계좌 객체의 개수를 저장하세요.\n",
        "    num_accounts = 0\n",
        "\n",
        "    def __init__(self, accHolder, iniBal):\n",
        "        self.accHolder = accHolder\n",
        "        self.balance = iniBal\n",
        "        self.bankName = \"SC은행\"\n",
        "        self.accNum = f\"{Account.createNum(3)}-{Account.createNum(2)}-{Account.createNum(5)}\"\n",
        "        self.depositHistory = []\n",
        "        self.withdrawHistory = []\n",
        "        self.deposit_counter = 0\n",
        "        Account.num_accounts += 1\n",
        "\n",
        "    # [ Quest ] Q3. 클래스 변수 출력 : Account 클래스로부터 생성된 계좌의 개수를 출력하는 get_account_num() 메서드를 추가하세요.\n",
        "    def get_account_num(self):\n",
        "        print(f\"현재 계좌의 개수는 {Account.num_accounts}개 입니다.\")\n",
        "\n",
        "    # [ Quest ] Q4. 입금 메서드 : Account 클래스에 입금을 위한 deposit 메서드를 추가하세요. 입금은 최소 1원 이상만 가능합니다.\n",
        "    def deposit(self, depositBal):\n",
        "        try:\n",
        "            if depositBal <= 0:\n",
        "                raise Exception('입금 금액이 0이거나 0보다 작음')\n",
        "                return\n",
        "\n",
        "        except Exception as e:\n",
        "            print(\"에러: 입금은 최소 1원 이상만 가능합니다. 원인:\", e)\n",
        "\n",
        "        else:\n",
        "            # 입금처리\n",
        "            self.balance += depositBal\n",
        "\n",
        "            # 거래기록  - [ Quest ] Q10. 입금과 출금 내역이 기록되도록 코드를 업데이트 하세요.\n",
        "            result = f\"입금: {depositBal:,}원, 잔액: {self.balance:,}원\"\n",
        "            self.depositHistory.append(result)\n",
        "\n",
        "            # 출력\n",
        "            print(result)\n",
        "\n",
        "            # [ Quest ] Q7. 이자 지급하기 : 입금 횟수가 5회가 될 때 잔고를 기준으로 1%의 이자가 잔고에 추가되도록 코드를 변경해보세요.\n",
        "            # 이자처리\n",
        "            self.deposit_counter += 1        # 입금이 1회 추가될 경우, deposit 카운터 1 증가\n",
        "            if self.deposit_counter % 5 == 0:       # 나누었을때, 나머지가 0일 경우 이자 추가\n",
        "                print (f\"입금 {self.deposit_counter}회, 이자: {self.balance * 0.01:,}원 입니다.\")\n",
        "                self.balance += self.balance * 0.01     # 기존 잔고의 1% 증액\n",
        "\n",
        "    # [ Quest ] Q5. 출금 메서드 : Account 클래스에 출금을 위한 withdraw 메서드를 추가하세요. 출금은 계좌의 잔고 이상으로 출금할 수는 없습니다.\n",
        "    def withdraw(self, withdrawBal):\n",
        "\n",
        "        # 에러 처리\n",
        "        try:\n",
        "            if withdrawBal > self.balance:\n",
        "                raise Exception(\"출금액이 잔고보다 더 많습니다.\")\n",
        "\n",
        "            elif withdrawBal <= 0:\n",
        "                raise withdrawError(\"출금액이 0보다 작거나 같습니다.\")\n",
        "\n",
        "        except Exception as e:\n",
        "            print(\"에러: 출금은 계좌의 잔고 이상으로 출금할 수는 없습니다. 원인:\", e)\n",
        "        except withdrawError as e:\n",
        "            print(\"에러: 0원 이하는 출금할 수 없습니다. 원인:\", e)\n",
        "\n",
        "        else:\n",
        "            # 출금 처리\n",
        "            self.balance -= withdrawBal\n",
        "            result = f\"출금: {withdrawBal:,}원, 잔액: {self.balance:,}원\"\n",
        "\n",
        "            # 거래 기록\n",
        "            self.withdrawHistory.append(result)\n",
        "\n",
        "            # 출력\n",
        "            print(result)\n",
        "\n",
        "    # [ Quest ] Q6. 정보 출력 메서드 : Account 인스턴스에 저장된 정보를 출력하는 display_info() 메서드를 추가하세요. 잔고는 세자리마다 쉼표를\n",
        "    # 출력하세요.\n",
        "    # (은행이름: SC은행, 예금주: 파이썬, 계좌번호: 111-11-111111, 잔고: 10,000원)\n",
        "    def display_info(self):\n",
        "        return f\"은행이름: {self.bankName}, 예금주: {self.accHolder}, 계좌번호: {self.accNum}, 잔고: {self.balance:,}\"\n",
        "\n",
        "    # (입금 내역과 출금 내역을 출력하는 deposit_history와 withdraw_history 메서드를 추가하세요.)\n",
        "    # 거래기록 출력 메서드\n",
        "    def deposit_history(self):      # 입금\n",
        "        print(\"*\"*10, \"입금 거래 기록\", \"*\"*10)\n",
        "        for i in range(len(self.depositHistory)):\n",
        "            print(f\"{i}, {self.depositHistory[i]}\")\n",
        "\n",
        "    def withdraw_history(self):     # 출금\n",
        "        print(\"*\"*10, \"출금 거래 기록\", \"*\"*10)\n",
        "        for i in range(len(self.withdrawHistory)):\n",
        "            print(f\"{i}, {self.withdrawHistory[i]}\")\n",
        "\n",
        "\n",
        "# [ Quest ] Q8. 여러 객체 생성 : Account 클래스로부터 3개 이상 인스턴스를 생성하고 생성된 인스턴스를 리스트에 저장해보세요.\n",
        "k = Account(\"김씨\", 5000)\n",
        "p = Account(\"박씨\", 4000000)\n",
        "s = Account(\"심씨\", 10000000)\n",
        "\n",
        "bankCustomer = [k,p,s]"
      ]
    },
    {
      "cell_type": "code",
      "source": [
        "k.get_account_num()\n",
        "k.deposit(1000)\n",
        "k.deposit(1000)\n",
        "k.deposit(1000)\n",
        "k.deposit(1000)\n",
        "k.deposit(1000)\n",
        "k.withdraw(100)"
      ],
      "metadata": {
        "colab": {
          "base_uri": "https://localhost:8080/"
        },
        "id": "7VaS_3fEJ-OF",
        "outputId": "4760c829-f75e-4fe5-ec35-acf86a6caa6e"
      },
      "execution_count": 379,
      "outputs": [
        {
          "output_type": "stream",
          "name": "stdout",
          "text": [
            "현재 계좌의 개수는 3개 입니다.\n",
            "입금: 1,000원, 잔액: 6,000원\n",
            "입금: 1,000원, 잔액: 7,000원\n",
            "입금: 1,000원, 잔액: 8,000원\n",
            "입금: 1,000원, 잔액: 9,000원\n",
            "입금: 1,000원, 잔액: 10,000원\n",
            "입금 5회, 이자: 100.0원 입니다.\n",
            "출금: 100원, 잔액: 10,000.0원\n"
          ]
        }
      ]
    },
    {
      "cell_type": "code",
      "source": [
        "# 에러 확인\n",
        "\n",
        "k.deposit(0) # 입금 에러 출력\n",
        "print()\n",
        "\n",
        "k.withdraw(20000) # 잔고보다 출금액이 더 많을때\n",
        "print()\n",
        "\n",
        "k.withdraw(-1) # 0보다 작은 금액을 출금할 때"
      ],
      "metadata": {
        "colab": {
          "base_uri": "https://localhost:8080/"
        },
        "id": "zyRBl79gJq6s",
        "outputId": "81727318-e0d3-4b9c-ec6c-98794e33c1b6"
      },
      "execution_count": 380,
      "outputs": [
        {
          "output_type": "stream",
          "name": "stdout",
          "text": [
            "에러: 입금은 최소 1원 이상만 가능합니다. 원인: 입금 금액이 0이거나 0보다 작음\n",
            "\n",
            "에러: 출금은 계좌의 잔고 이상으로 출금할 수는 없습니다. 원인: 출금액이 잔고보다 더 많습니다.\n",
            "\n",
            "에러: 출금은 계좌의 잔고 이상으로 출금할 수는 없습니다. 원인: 출금액이 0보다 작거나 같습니다.\n"
          ]
        }
      ]
    },
    {
      "cell_type": "code",
      "source": [
        "print(k.display_info(), \"\\n\")\n",
        "\n",
        "k.deposit_history()\n",
        "print()\n",
        "\n",
        "k.withdraw_history()"
      ],
      "metadata": {
        "colab": {
          "base_uri": "https://localhost:8080/"
        },
        "id": "KjslYhlj_kag",
        "outputId": "7d51e02a-f2bd-4dd2-bb8e-e7c005b96c15"
      },
      "execution_count": 381,
      "outputs": [
        {
          "output_type": "stream",
          "name": "stdout",
          "text": [
            "은행이름: SC은행, 예금주: 김씨, 계좌번호: 052-02-50983, 잔고: 10,000.0 \n",
            "\n",
            "********** 입금 거래 기록 **********\n",
            "0, 입금: 1,000원, 잔액: 6,000원\n",
            "1, 입금: 1,000원, 잔액: 7,000원\n",
            "2, 입금: 1,000원, 잔액: 8,000원\n",
            "3, 입금: 1,000원, 잔액: 9,000원\n",
            "4, 입금: 1,000원, 잔액: 10,000원\n",
            "\n",
            "********** 출금 거래 기록 **********\n",
            "0, 출금: 100원, 잔액: 10,000.0원\n"
          ]
        }
      ]
    },
    {
      "cell_type": "code",
      "source": [
        "# Q9. 객체 순회 반복문을 통해 리스트에 있는 객체를 순회하면서 잔고가 100만원 이상인 고객의 정보만 출력하세요.\n",
        "a = \"\\n\".join([x.display_info() for x in bankCustomer if x.balance > 1000000])\n",
        "print(a)"
      ],
      "metadata": {
        "colab": {
          "base_uri": "https://localhost:8080/"
        },
        "id": "sj3i2lt1HCPi",
        "outputId": "c5c065ef-d28f-4f3d-8466-54db867f7bf2"
      },
      "execution_count": 382,
      "outputs": [
        {
          "output_type": "stream",
          "name": "stdout",
          "text": [
            "은행이름: SC은행, 예금주: 박씨, 계좌번호: 137-18-62612, 잔고: 4,000,000\n",
            "은행이름: SC은행, 예금주: 심씨, 계좌번호: 283-31-82275, 잔고: 10,000,000\n"
          ]
        }
      ]
    }
  ]
}